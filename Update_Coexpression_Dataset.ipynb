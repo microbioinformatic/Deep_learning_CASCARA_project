{
 "cells": [
  {
   "cell_type": "markdown",
   "id": "06fd2247",
   "metadata": {},
   "source": [
    "# Updating Coexpression Dataset with Missing Genes\n",
    "This notebook processes a coexpression dataset by adding missing genes from a full gene list."
   ]
  },
  {
   "cell_type": "code",
   "execution_count": null,
   "id": "ec233b19",
   "metadata": {},
   "outputs": [],
   "source": [
    "# Load required libraries\n",
    "import pandas as pd\n",
    "\n",
    "# File paths\n",
    "coexpression_path = 'coexpression_network_nodes_with_freq_corrected.txt'\n",
    "full_gene_list_path = 'coexpression_gene_names_full.txt'\n",
    "final_cleaned_output_path = 'final_cleaned_updated_coexpression_with_109_genes.txt'\n",
    "\n",
    "# Step 1: Load the datasets\n",
    "coexpression_df = pd.read_csv(coexpression_path, sep=\"\\t\")\n",
    "full_gene_list_df = pd.read_csv(full_gene_list_path, header=None, names=[\"gene\"])\n"
   ]
  },
  {
   "cell_type": "code",
   "execution_count": null,
   "id": "e33afa2a",
   "metadata": {},
   "outputs": [],
   "source": [
    "# Step 2: Clean the full gene list to remove extra quotes and indices\n",
    "cleaned_full_gene_list = full_gene_list_df[~full_gene_list_df['gene'].str.contains(\"gene_name\", case=False, na=False)]\n",
    "cleaned_full_gene_list['gene'] = cleaned_full_gene_list['gene'].str.extract(r'[\\\"]?(?P<gene>[a-zA-Z0-9_-]+)[\\\"]?$')\n"
   ]
  },
  {
   "cell_type": "code",
   "execution_count": null,
   "id": "bbee677a",
   "metadata": {},
   "outputs": [],
   "source": [
    "# Step 3: Identify missing genes\n",
    "missing_genes_cleaned = cleaned_full_gene_list[~cleaned_full_gene_list['gene'].isin(coexpression_df['node'])]\n"
   ]
  },
  {
   "cell_type": "code",
   "execution_count": null,
   "id": "6491b0cd",
   "metadata": {},
   "outputs": [],
   "source": [
    "# Step 4: Create rows for missing genes\n",
    "missing_rows_cleaned = pd.DataFrame({\n",
    "    'node': missing_genes_cleaned['gene'],\n",
    "    'module': 'none',\n",
    "    'frequency': -1\n",
    "})\n"
   ]
  },
  {
   "cell_type": "code",
   "execution_count": null,
   "id": "04f301ff",
   "metadata": {},
   "outputs": [],
   "source": [
    "# Step 5: Combine the original dataset with missing rows\n",
    "final_combined_df = pd.concat([coexpression_df, missing_rows_cleaned], ignore_index=True)\n"
   ]
  },
  {
   "cell_type": "code",
   "execution_count": null,
   "id": "8a776980",
   "metadata": {},
   "outputs": [],
   "source": [
    "# Step 6: Reorder based on the cleaned full gene list\n",
    "final_ordered_df = final_combined_df.set_index('node').reindex(cleaned_full_gene_list['gene']).reset_index()\n"
   ]
  },
  {
   "cell_type": "code",
   "execution_count": null,
   "id": "94d3266a",
   "metadata": {},
   "outputs": [],
   "source": [
    "# Step 7: Save the final updated dataset\n",
    "final_ordered_df.to_csv(final_cleaned_output_path, sep=\"\\t\", index=False)\n",
    "\n",
    "print(f\"Processed file saved at: {final_cleaned_output_path}\")\n"
   ]
  }
 ],
 "metadata": {},
 "nbformat": 4,
 "nbformat_minor": 5
}
