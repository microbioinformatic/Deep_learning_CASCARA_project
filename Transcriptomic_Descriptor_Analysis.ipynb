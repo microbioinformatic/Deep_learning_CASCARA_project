{
 "cells": [
  {
   "cell_type": "markdown",
   "id": "87226fb9",
   "metadata": {},
   "source": [
    "\n",
    "# Transcriptomic Descriptor Analysis\n",
    "\n",
    "This notebook provides an analysis of transcriptomic data, calculating key statistical descriptors for each gene to understand expression patterns across samples.\n",
    "\n",
    "## Objectives:\n",
    "- Calculate biologically relevant metrics per gene.\n",
    "- Summarize the distribution and variability of gene expression data.\n"
   ]
  },
  {
   "cell_type": "code",
   "execution_count": null,
   "id": "87877716",
   "metadata": {},
   "outputs": [],
   "source": [
    "\n",
    "# Import required libraries\n",
    "import pandas as pd\n",
    "from scipy.stats import skew, kurtosis\n",
    "\n",
    "# Load the dataset\n",
    "file_path = '41598_2022_12463_MOESM1_ESM.csv'  # Adjust the path if necessary\n",
    "data = pd.read_csv(file_path)\n",
    "\n",
    "# Display the first few rows of the dataset\n",
    "data.head()\n"
   ]
  },
  {
   "cell_type": "markdown",
   "id": "115c7ec3",
   "metadata": {},
   "source": [
    "## Calculation of Transcriptomic Descriptors"
   ]
  },
  {
   "cell_type": "code",
   "execution_count": null,
   "id": "6cf650e0",
   "metadata": {},
   "outputs": [],
   "source": [
    "\n",
    "# Extract numeric columns (samples data)\n",
    "expression_data = data.iloc[:, 3:]\n",
    "\n",
    "# Calculate metrics\n",
    "results = pd.DataFrame({\n",
    "    'Gene': data['Gene_name'],\n",
    "    'Mean': expression_data.mean(axis=1),\n",
    "    'SD': expression_data.std(axis=1),\n",
    "    'CV': expression_data.std(axis=1) / expression_data.mean(axis=1),\n",
    "    'Skewness': expression_data.apply(skew, axis=1),\n",
    "    'Kurtosis': expression_data.apply(kurtosis, axis=1),\n",
    "    'Range': expression_data.max(axis=1) - expression_data.min(axis=1)\n",
    "})\n",
    "\n",
    "# Display the results\n",
    "results.head()\n"
   ]
  },
  {
   "cell_type": "markdown",
   "id": "aeb6db48",
   "metadata": {},
   "source": [
    "## Visualization of Results"
   ]
  },
  {
   "cell_type": "code",
   "execution_count": null,
   "id": "100a627b",
   "metadata": {},
   "outputs": [],
   "source": [
    "\n",
    "import matplotlib.pyplot as plt\n",
    "\n",
    "# Plot distribution of mean expression\n",
    "plt.figure(figsize=(10, 6))\n",
    "plt.hist(results['Mean'], bins=30, alpha=0.7, label='Mean Expression')\n",
    "plt.xlabel('Expression Level')\n",
    "plt.ylabel('Frequency')\n",
    "plt.title('Distribution of Mean Expression')\n",
    "plt.legend()\n",
    "plt.show()\n",
    "\n",
    "# Plot Coefficient of Variation vs. Mean\n",
    "plt.figure(figsize=(10, 6))\n",
    "plt.scatter(results['Mean'], results['CV'], alpha=0.6, label='CV vs Mean')\n",
    "plt.xlabel('Mean Expression')\n",
    "plt.ylabel('Coefficient of Variation')\n",
    "plt.title('CV vs Mean Expression')\n",
    "plt.legend()\n",
    "plt.show()\n"
   ]
  },
  {
   "cell_type": "markdown",
   "id": "53246e14",
   "metadata": {},
   "source": [
    "\n",
    "# Conclusions\n",
    "\n",
    "- The Mean expression levels indicate the overall activity of genes across the samples.\n",
    "- High Coefficient of Variation (CV) values suggest greater variability relative to the mean expression.\n",
    "- Skewness and Kurtosis help identify genes with asymmetric distributions and extreme expression values, respectively.\n",
    "- The range metric highlights genes with the broadest expression fluctuation.\n",
    "\n",
    "These metrics provide insights into gene behavior across different conditions and can guide further biological investigations.\n"
   ]
  }
 ],
 "metadata": {},
 "nbformat": 4,
 "nbformat_minor": 5
}
