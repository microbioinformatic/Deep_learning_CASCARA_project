{
 "cells": [
  {
   "cell_type": "markdown",
   "id": "b656cba3",
   "metadata": {},
   "source": [
    "# Gene Statistics Analysis\n",
    "This notebook calculates per-gene statistics (e.g., min, max, mean) across ratio columns."
   ]
  },
  {
   "cell_type": "code",
   "execution_count": null,
   "id": "faa7cf35",
   "metadata": {},
   "outputs": [],
   "source": [
    "# Import necessary libraries\n",
    "import pandas as pd\n",
    "\n",
    "# File paths\n",
    "input_file = '/path/to/corrected_me_raw_ratios_final.txt'\n",
    "output_file = '/path/to/final_dataset_with_gene_statistics.txt'\n",
    "\n",
    "# Load the dataset\n",
    "final_df = pd.read_csv(input_file, sep=\"\\t\")\n",
    "\n",
    "# Identify ratio columns\n",
    "ratio_columns = [col for col in final_df.columns if col.endswith(\"_raw_ratio\")]"
   ]
  },
  {
   "cell_type": "code",
   "execution_count": null,
   "id": "add1f024",
   "metadata": {},
   "outputs": [],
   "source": [
    "# Calculate statistics per gene across all ratio columns\n",
    "stats_per_gene = final_df[ratio_columns].agg(['min', 'max', 'mean', 'median', 'std', 'var'], axis=1)\n",
    "\n",
    "# Rename the statistics columns for clarity\n",
    "stats_per_gene.columns = [f\"ratio_{stat}\" for stat in stats_per_gene.columns]\n",
    "\n",
    "# Merge these statistics back into the original dataframe\n",
    "final_with_gene_stats_df = pd.concat([final_df, stats_per_gene], axis=1)"
   ]
  },
  {
   "cell_type": "code",
   "execution_count": null,
   "id": "cf412ef0",
   "metadata": {},
   "outputs": [],
   "source": [
    "# Save the updated dataset with per-gene statistics\n",
    "final_with_gene_stats_df.to_csv(output_file, sep=\"\\t\", index=False)\n",
    "\n",
    "print(f\"Updated dataset with per-gene statistics saved to {output_file}\")"
   ]
  }
 ],
 "metadata": {},
 "nbformat": 4,
 "nbformat_minor": 5
}
