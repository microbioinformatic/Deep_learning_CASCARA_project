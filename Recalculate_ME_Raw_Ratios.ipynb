{
 "cells": [
  {
   "cell_type": "markdown",
   "id": "9df88245",
   "metadata": {},
   "source": [
    "# Recalculate ME/Raw Ratios\n",
    "This notebook calculates the ratios of ME values to raw values, ensuring proper alignment and handling division by zero."
   ]
  },
  {
   "cell_type": "code",
   "execution_count": null,
   "id": "9ebd26ce",
   "metadata": {},
   "outputs": [],
   "source": [
    "# Import necessary libraries\n",
    "import pandas as pd\n",
    "\n",
    "# File paths\n",
    "me_file_path = '/path/to/final_me_with_ratios_no_raw_values.txt'\n",
    "raw_file_path = '/path/to/exp_values_raw.txt'\n",
    "output_path = '/path/to/corrected_me_raw_ratios_final.txt'\n",
    "\n",
    "# Load the ME dataset and raw dataset\n",
    "me_df = pd.read_csv(me_file_path, sep=\"\\t\")\n",
    "raw_df = pd.read_csv(raw_file_path, sep=\"\\t\")"
   ]
  },
  {
   "cell_type": "code",
   "execution_count": null,
   "id": "537a127e",
   "metadata": {},
   "outputs": [],
   "source": [
    "# Ensure proper alignment by setting `gene_name` as the index in both datasets\n",
    "me_df.set_index('gene_name', inplace=True)\n",
    "raw_df.index.name = 'gene_name'\n",
    "\n",
    "# Recalculate ratios for all ME columns\n",
    "for me_column in me_df.columns:\n",
    "    if me_column.endswith(\"ME\"):\n",
    "        raw_column = me_column.replace(\"ME\", \"\")  # Find the corresponding raw column\n",
    "        if raw_column in raw_df.columns:\n",
    "            ratio_column = f\"{me_column}_raw_ratio\"\n",
    "            me_df[ratio_column] = me_df[me_column] / raw_df[raw_column].replace(0, 1e-10).reindex(me_df.index)"
   ]
  },
  {
   "cell_type": "code",
   "execution_count": null,
   "id": "27099ef4",
   "metadata": {},
   "outputs": [],
   "source": [
    "# Reset index for saving\n",
    "me_df.reset_index(inplace=True)\n",
    "\n",
    "# Save the updated dataset\n",
    "me_df.to_csv(output_path, sep=\"\\t\", index=False)\n",
    "\n",
    "print(f\"Corrected dataset saved to {output_path}\")"
   ]
  }
 ],
 "metadata": {},
 "nbformat": 4,
 "nbformat_minor": 5
}
