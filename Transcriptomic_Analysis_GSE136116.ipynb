{
 "cells": [
  {
   "cell_type": "markdown",
   "id": "581e9909",
   "metadata": {},
   "source": [
    "\n",
    "# Transcriptomic Descriptor Analysis with Multilag Autocorrelation\n",
    "\n",
    "This notebook provides a comprehensive analysis of transcriptomic data, including the calculation of various mathematical descriptors and multilag autocorrelation values for each gene.\n",
    "\n",
    "## Objectives:\n",
    "- Compute advanced mathematical descriptors for gene expression data.\n",
    "- Evaluate multilag autocorrelation to understand stability and patterns in gene expression.\n"
   ]
  },
  {
   "cell_type": "code",
   "execution_count": null,
   "id": "f8d567fd",
   "metadata": {},
   "outputs": [],
   "source": [
    "\n",
    "# Import required libraries\n",
    "import pandas as pd\n",
    "import numpy as np\n",
    "from scipy.stats import skew, kurtosis\n",
    "\n",
    "# Load the dataset\n",
    "file_path = '/mnt/data/GSE136116_raw.counts (3).csv'  # Adjust the path if necessary\n",
    "data = pd.read_csv(file_path)\n",
    "\n",
    "# Extract numeric columns (samples data)\n",
    "expression_data = data.iloc[:, 1:]\n",
    "\n",
    "# Display the first few rows of the dataset\n",
    "data.head()\n"
   ]
  },
  {
   "cell_type": "markdown",
   "id": "9926cb05",
   "metadata": {},
   "source": [
    "## Calculation of Mathematical Descriptors"
   ]
  },
  {
   "cell_type": "code",
   "execution_count": null,
   "id": "898f9be5",
   "metadata": {},
   "outputs": [],
   "source": [
    "\n",
    "# Define functions for calculating descriptors\n",
    "def gini_index(values):\n",
    "    sorted_values = np.sort(values)\n",
    "    n = len(values)\n",
    "    cumulative = np.cumsum(sorted_values) / np.sum(sorted_values)\n",
    "    return 1 - 2 * np.sum((n - np.arange(1, n + 1)) * cumulative) / n\n",
    "\n",
    "def shannon_entropy(values):\n",
    "    probabilities = values / np.sum(values)\n",
    "    return -np.sum(probabilities * np.log(probabilities + 1e-10))  # Add small constant to avoid log(0)\n",
    "\n",
    "def autocorrelation(values, lag=1):\n",
    "    n = len(values)\n",
    "    mean = np.mean(values)\n",
    "    numerator = np.sum((values[:n-lag] - mean) * (values[lag:] - mean))\n",
    "    denominator = np.sum((values - mean) ** 2)\n",
    "    return numerator / denominator if denominator != 0 else np.nan\n",
    "\n",
    "# Calculate metrics\n",
    "results = pd.DataFrame({\n",
    "    'Gene': data['Gene_name'],\n",
    "    'Mean': expression_data.mean(axis=1),\n",
    "    'SD': expression_data.std(axis=1),\n",
    "    'CV': expression_data.std(axis=1) / expression_data.mean(axis=1),\n",
    "    'Skewness': expression_data.apply(skew, axis=1),\n",
    "    'Kurtosis': expression_data.apply(kurtosis, axis=1),\n",
    "    'Range': expression_data.max(axis=1) - expression_data.min(axis=1),\n",
    "    'Gini_Index': expression_data.apply(gini_index, axis=1),\n",
    "    'Shannon_Entropy': expression_data.apply(shannon_entropy, axis=1),\n",
    "    'Signal_to_Noise_Ratio': expression_data.mean(axis=1) / expression_data.std(axis=1),\n",
    "    'Peakness_Index': expression_data.max(axis=1) / expression_data.mean(axis=1)\n",
    "})\n"
   ]
  },
  {
   "cell_type": "markdown",
   "id": "66a3c593",
   "metadata": {},
   "source": [
    "## Multilag Autocorrelation Analysis"
   ]
  },
  {
   "cell_type": "code",
   "execution_count": null,
   "id": "0371f183",
   "metadata": {},
   "outputs": [],
   "source": [
    "\n",
    "# Define function for multilag autocorrelation\n",
    "def autocorrelation_multiple_lags(values, max_lag=5):\n",
    "    autocorrs = {}\n",
    "    for lag in range(1, max_lag + 1):\n",
    "        n = len(values)\n",
    "        mean = np.mean(values)\n",
    "        numerator = np.sum((values[:n-lag] - mean) * (values[lag:] - mean))\n",
    "        denominator = np.sum((values - mean) ** 2)\n",
    "        autocorrs[f'Autocorrelation_Lag_{lag}'] = numerator / denominator if denominator != 0 else np.nan\n",
    "    return autocorrs\n",
    "\n",
    "# Calculate autocorrelation for lags 1 through 5\n",
    "autocorr_df = expression_data.apply(lambda x: autocorrelation_multiple_lags(x.values), axis=1)\n",
    "autocorr_df = pd.DataFrame(autocorr_df.tolist(), index=expression_data.index)\n",
    "\n",
    "# Add autocorrelation results to the main results table\n",
    "results = pd.concat([results, autocorr_df], axis=1)\n",
    "\n",
    "# Display the updated dataset\n",
    "results.head()\n"
   ]
  },
  {
   "cell_type": "markdown",
   "id": "5bf49433",
   "metadata": {},
   "source": [
    "\n",
    "# Conclusions\n",
    "\n",
    "- The calculated descriptors provide insights into the variability, symmetry, and diversity of gene expression.\n",
    "- Multilag autocorrelation reveals stability and trends in expression values across samples.\n",
    "- These analyses can guide further investigation into gene regulatory mechanisms.\n",
    "\n",
    "The full table of results includes all descriptors and autocorrelations for lags 1 through 5.\n"
   ]
  }
 ],
 "metadata": {},
 "nbformat": 4,
 "nbformat_minor": 5
}
